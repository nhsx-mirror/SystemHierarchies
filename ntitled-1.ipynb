{
 "cells": [
  {
   "cell_type": "code",
   "execution_count": 2,
   "metadata": {},
   "outputs": [],
   "source": [
    "import plotly.express as px\n",
    "from plotly import graph_objects as go\n",
    "import pandas as pd\n",
    "#import chart_studio.tools as tls"
   ]
  },
  {
   "cell_type": "code",
   "execution_count": 3,
   "metadata": {},
   "outputs": [],
   "source": [
    "df_gp = pd.read_csv('/Users/muhammad-faaiz.shanawas/Documents/GitHub/SystemHierarchies/data/gp-reg-pat-prac-map.csv')\n",
    "list_of_ccgs = df_gp['CCG_CODE'].unique()\n",
    "num_of_ccgs = len(list_of_ccgs)\n"
   ]
  },
  {
   "cell_type": "code",
   "execution_count": 4,
   "metadata": {},
   "outputs": [],
   "source": [
    "list_of_pcns = df_gp['PCN_NAME'].unique()\n",
    "num_of_pcns = len(list_of_pcns)\n",
    "\n"
   ]
  },
  {
   "cell_type": "code",
   "execution_count": 5,
   "metadata": {},
   "outputs": [],
   "source": [
    "list_of_stps = df_gp['STP_NAME'].unique()\n",
    "num_of_stps = len(list_of_stps)"
   ]
  },
  {
   "cell_type": "code",
   "execution_count": 6,
   "metadata": {},
   "outputs": [],
   "source": [
    "df_gp_cut = df_gp[['PRACTICE_NAME', 'PCN_NAME', 'CCG_NAME', 'STP_NAME', 'COMM_REGION_NAME']]"
   ]
  },
  {
   "cell_type": "code",
   "execution_count": 7,
   "metadata": {},
   "outputs": [],
   "source": [
    "#load in data and retrieve the number of trusts\n",
    "df_trusts = pd.read_csv('/Users/muhammad-faaiz.shanawas/Documents/GitHub/SystemHierarchies/data/etr.csv', header = None)\n",
    "list_of_trusts = df_trusts[1].unique()\n",
    "num_of_trusts = len(list_of_trusts)\n",
    "\n"
   ]
  },
  {
   "cell_type": "code",
   "execution_count": 9,
   "metadata": {},
   "outputs": [
    {
     "data": {
      "text/html": [
       "<div>\n",
       "<style scoped>\n",
       "    .dataframe tbody tr th:only-of-type {\n",
       "        vertical-align: middle;\n",
       "    }\n",
       "\n",
       "    .dataframe tbody tr th {\n",
       "        vertical-align: top;\n",
       "    }\n",
       "\n",
       "    .dataframe thead th {\n",
       "        text-align: right;\n",
       "    }\n",
       "</style>\n",
       "<table border=\"1\" class=\"dataframe\">\n",
       "  <thead>\n",
       "    <tr style=\"text-align: right;\">\n",
       "      <th></th>\n",
       "      <th>Trust_Code</th>\n",
       "      <th>Trust_Name</th>\n",
       "      <th>Trust_ONS_Code</th>\n",
       "    </tr>\n",
       "  </thead>\n",
       "  <tbody>\n",
       "    <tr>\n",
       "      <th>0</th>\n",
       "      <td>R0A</td>\n",
       "      <td>MANCHESTER UNIVERSITY NHS FOUNDATION TRUST</td>\n",
       "      <td>Y62</td>\n",
       "    </tr>\n",
       "    <tr>\n",
       "      <th>1</th>\n",
       "      <td>R0B</td>\n",
       "      <td>SOUTH TYNESIDE AND SUNDERLAND NHS FOUNDATION T...</td>\n",
       "      <td>Y63</td>\n",
       "    </tr>\n",
       "    <tr>\n",
       "      <th>2</th>\n",
       "      <td>R0D</td>\n",
       "      <td>UNIVERSITY HOSPITALS DORSET NHS FOUNDATION TRUST</td>\n",
       "      <td>Y58</td>\n",
       "    </tr>\n",
       "    <tr>\n",
       "      <th>3</th>\n",
       "      <td>R1A</td>\n",
       "      <td>HEREFORDSHIRE AND WORCESTERSHIRE HEALTH AND CA...</td>\n",
       "      <td>Y60</td>\n",
       "    </tr>\n",
       "    <tr>\n",
       "      <th>4</th>\n",
       "      <td>R1C</td>\n",
       "      <td>SOLENT NHS TRUST</td>\n",
       "      <td>Y59</td>\n",
       "    </tr>\n",
       "  </tbody>\n",
       "</table>\n",
       "</div>"
      ],
      "text/plain": [
       "  Trust_Code                                         Trust_Name Trust_ONS_Code\n",
       "0        R0A         MANCHESTER UNIVERSITY NHS FOUNDATION TRUST            Y62\n",
       "1        R0B  SOUTH TYNESIDE AND SUNDERLAND NHS FOUNDATION T...            Y63\n",
       "2        R0D   UNIVERSITY HOSPITALS DORSET NHS FOUNDATION TRUST            Y58\n",
       "3        R1A  HEREFORDSHIRE AND WORCESTERSHIRE HEALTH AND CA...            Y60\n",
       "4        R1C                                   SOLENT NHS TRUST            Y59"
      ]
     },
     "execution_count": 9,
     "metadata": {},
     "output_type": "execute_result"
    }
   ],
   "source": [
    "#merge df_gp with df_trusts\n",
    "df_trusts_dspt = pd.read_csv('/Users/muhammad-faaiz.shanawas/Documents/GitHub/SystemHierarchies/data/etr.csv', header = None)\n",
    "df_trusts_cut.columns = [\"Trust_Code\", \"Trust_Name\", \"Trust_ONS_Code\"]\n",
    "df_merged = merge()\n",
    "df_trusts_cut.head()"
   ]
  },
  {
   "cell_type": "code",
   "execution_count": null,
   "metadata": {},
   "outputs": [],
   "source": []
  },
  {
   "cell_type": "code",
   "execution_count": null,
   "metadata": {},
   "outputs": [],
   "source": [
    "#create dict and display funnel chart\n",
    "\n",
    "data_funnel = dict(number = [7, num_of_stps, num_of_ccgs, num_of_trusts, num_of_pcns, 6528], stage = [\"Regions\", \"ICS\", \"CCG\", \"Trusts\", \"PCN\", \"GP Practices\"])\n",
    "\n",
    "fig = px.funnel(data_funnel, x= 'number', y = 'stage')\n",
    "#fig.show()"
   ]
  },
  {
   "cell_type": "code",
   "execution_count": null,
   "metadata": {},
   "outputs": [],
   "source": [
    "\n",
    "#create a sunburst chart mapping regions-stps-ccgs-pcn-practices\n",
    "print(df_gp_cut)\n",
    "fig2 = px.sunburst(df_gp_cut, path = ['COMM_REGION_NAME', 'STP_NAME', 'CCG_NAME', 'PCN_NAME', 'PRACTICE_NAME'], values = None)\n",
    "#fig2.show()"
   ]
  },
  {
   "cell_type": "code",
   "execution_count": null,
   "metadata": {},
   "outputs": [],
   "source": [
    "#create a medium sunburst chart mapping regions-stps-ccgs-trusts\n",
    "fig3 = px.sunburst(df_gp_cut, path = ['COMM_REGION_NAME', 'STP_NAME', 'CCG_NAME', 'TRUST_NAME'], values = None)\n",
    "fig3.show()"
   ]
  },
  {
   "cell_type": "code",
   "execution_count": null,
   "metadata": {},
   "outputs": [],
   "source": [
    "#create a smaller sunburst chart mapping regions-stps-ccgs\n",
    "fig4 = px.sunburst(df_gp_cut, path = ['COMM_REGION_NAME', 'STP_NAME', 'CCG_NAME'], values = None)\n",
    "#fig4.show()"
   ]
  },
  {
   "cell_type": "code",
   "execution_count": null,
   "metadata": {},
   "outputs": [],
   "source": [
    "#create a treemap mapping regions-stps-ccgs-pcns-practices\n",
    "fig5= px.treemap(df_gp_cut, path = ['COMM_REGION_NAME', 'STP_NAME', 'CCG_NAME', 'PCN_NAME', 'PRACTICE_NAME'], values = None)\n",
    "#fig5.show()"
   ]
  },
  {
   "cell_type": "code",
   "execution_count": null,
   "metadata": {},
   "outputs": [],
   "source": [
    "#create a smaller treemap mapping regions-stps-ccgs\n",
    "fig6 = px.treemap(df_gp_cut, path = ['COMM_REGION_NAME', 'STP_NAME', 'CCG_NAME'], values = None)\n",
    "#fig6.show()"
   ]
  },
  {
   "cell_type": "code",
   "execution_count": null,
   "metadata": {},
   "outputs": [],
   "source": [
    "#saving all plotly figures\n",
    "'''\n",
    "fig.write_html(\"/Users/muhammad-faaiz.shanawas/Documents/GitHub/SystemHierarchies/map outputs/funnel_chart.html\")\n",
    "fig2.write_html(\"/Users/muhammad-faaiz.shanawas/Documents/GitHub/SystemHierarchies/map outputs/sunburst_large.html\")\n",
    "fig3.write_html(\"/Users/muhammad-faaiz.shanawas/Documents/GitHub/SystemHierarchies/map outputs/sunburst_small.html\")\n",
    "fig4.write_html(\"/Users/muhammad-faaiz.shanawas/Documents/GitHub/SystemHierarchies/map outputs/treemap_large.html\")\n",
    "fig5.write_html(\"/Users/muhammad-faaiz.shanawas/Documents/GitHub/SystemHierarchies/map outputs/treemap_small.html\")\n",
    "'''"
   ]
  }
 ],
 "metadata": {
  "interpreter": {
   "hash": "aee8b7b246df8f9039afb4144a1f6fd8d2ca17a180786b69acc140d282b71a49"
  },
  "kernelspec": {
   "display_name": "Python 3.9.10 64-bit",
   "language": "python",
   "name": "python3"
  },
  "language_info": {
   "codemirror_mode": {
    "name": "ipython",
    "version": 3
   },
   "file_extension": ".py",
   "mimetype": "text/x-python",
   "name": "python",
   "nbconvert_exporter": "python",
   "pygments_lexer": "ipython3",
   "version": "3.9.10"
  },
  "orig_nbformat": 4
 },
 "nbformat": 4,
 "nbformat_minor": 2
}
